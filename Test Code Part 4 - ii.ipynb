{
 "cells": [
  {
   "cell_type": "code",
   "execution_count": 3,
   "metadata": {},
   "outputs": [],
   "source": [
    "#recursion\n",
    "\n",
    "def bottles_of_beer(cntr):\n",
    "    \n",
    "    if cntr < 1:\n",
    "        \n",
    "        print(\"No more bottles\")\n",
    "        \n",
    "        return\n",
    "    \n",
    "    print(\"\"\"{} bottles of beer.Take one. Remaining {}\"\"\".format(cntr, cntr -1))\n",
    "    \n",
    "    cntr -=1 \n",
    "    \n",
    "    bottles_of_beer(cntr)\n",
    "    \n",
    "    "
   ]
  },
  {
   "cell_type": "code",
   "execution_count": 4,
   "metadata": {},
   "outputs": [
    {
     "name": "stdout",
     "output_type": "stream",
     "text": [
      "10 bottles of beer.Take one. Remaining 9\n",
      "9 bottles of beer.Take one. Remaining 8\n",
      "8 bottles of beer.Take one. Remaining 7\n",
      "7 bottles of beer.Take one. Remaining 6\n",
      "6 bottles of beer.Take one. Remaining 5\n",
      "5 bottles of beer.Take one. Remaining 4\n",
      "4 bottles of beer.Take one. Remaining 3\n",
      "3 bottles of beer.Take one. Remaining 2\n",
      "2 bottles of beer.Take one. Remaining 1\n",
      "1 bottles of beer.Take one. Remaining 0\n",
      "No more bottles\n"
     ]
    }
   ],
   "source": [
    "bottles_of_beer(10)"
   ]
  },
  {
   "cell_type": "code",
   "execution_count": 9,
   "metadata": {},
   "outputs": [],
   "source": [
    "#print backwards\n",
    "\n",
    "def prnt_bk_recr(nmbr):\n",
    "    \n",
    "    if nmbr < 0:\n",
    "        print('End reached\\n')\n",
    "        return\n",
    "    \n",
    "    print(nmbr)\n",
    "    #nmbr -= 1\n",
    "    prnt_bk_recr(nmbr - 1)\n"
   ]
  },
  {
   "cell_type": "code",
   "execution_count": 21,
   "metadata": {},
   "outputs": [],
   "source": [
    "def binary_search(my_list, target):\n",
    "    l = 0\n",
    "    r = len(my_list) - 1\n",
    "    m = (l+r) // 2\n",
    "    found = 0\n",
    "    while l<=r:\n",
    "        if my_list[m] == target:\n",
    "            found = 1\n",
    "            break\n",
    "        \n",
    "        elif my_list[m] > target:\n",
    "            r = m - 1\n",
    "            m = (l+r) // 2\n",
    "    \n",
    "        elif my_list[m] < target:\n",
    "            l = m + 1\n",
    "            m = (l+r) // 2\n",
    "    \n",
    "    if found == 1:\n",
    "        print(\"Found\")\n",
    "    else:\n",
    "        print(\"Not found\")"
   ]
  },
  {
   "cell_type": "code",
   "execution_count": 22,
   "metadata": {},
   "outputs": [
    {
     "name": "stdout",
     "output_type": "stream",
     "text": [
      "Found\n"
     ]
    }
   ],
   "source": [
    "my_list = [1,2,3,4,5,6]\n",
    "\n",
    "target = 4\n",
    "\n",
    "binary_search(my_list, target)\n",
    "\n",
    "\n",
    "\n"
   ]
  },
  {
   "cell_type": "code",
   "execution_count": 36,
   "metadata": {},
   "outputs": [],
   "source": [
    "my_string = \"Buy 1 get 2 free\"\n"
   ]
  },
  {
   "cell_type": "code",
   "execution_count": 39,
   "metadata": {},
   "outputs": [],
   "source": [
    "match = [c for c in my_string if c.isdigit()][-1]"
   ]
  },
  {
   "cell_type": "code",
   "execution_count": 40,
   "metadata": {},
   "outputs": [
    {
     "name": "stdout",
     "output_type": "stream",
     "text": [
      "2\n"
     ]
    }
   ],
   "source": [
    "print(match)"
   ]
  },
  {
   "cell_type": "code",
   "execution_count": 41,
   "metadata": {},
   "outputs": [],
   "source": [
    "def cherche_une(my_list):\n",
    "    \n",
    "    cntr = {}\n",
    "    \n",
    "    for item in my_list:\n",
    "        if item in cntr:\n",
    "            cntr[item] += 1\n",
    "        else:\n",
    "            cntr[item] = 1\n",
    "            \n",
    "            \n",
    "    for item in cntr:\n",
    "        if cntr[item] == 1:\n",
    "            return item\n",
    "    \n",
    "    \n",
    "    \n",
    "    \n",
    "    "
   ]
  },
  {
   "cell_type": "code",
   "execution_count": 43,
   "metadata": {},
   "outputs": [
    {
     "data": {
      "text/plain": [
       "2"
      ]
     },
     "execution_count": 43,
     "metadata": {},
     "output_type": "execute_result"
    }
   ],
   "source": [
    "my_list = [1,1,2,3,3]\n",
    "cherche_une(my_list)"
   ]
  },
  {
   "cell_type": "code",
   "execution_count": 44,
   "metadata": {},
   "outputs": [
    {
     "ename": "ModuleNotFoundError",
     "evalue": "No module named 'stack'",
     "output_type": "error",
     "traceback": [
      "\u001b[0;31m---------------------------------------------------------------------------\u001b[0m",
      "\u001b[0;31mModuleNotFoundError\u001b[0m                       Traceback (most recent call last)",
      "\u001b[0;32m<ipython-input-44-f266587fa6d3>\u001b[0m in \u001b[0;36m<module>\u001b[0;34m\u001b[0m\n\u001b[0;32m----> 1\u001b[0;31m \u001b[0;32mfrom\u001b[0m \u001b[0mstack\u001b[0m \u001b[0;32mimport\u001b[0m \u001b[0mStack\u001b[0m\u001b[0;34m\u001b[0m\u001b[0;34m\u001b[0m\u001b[0m\n\u001b[0m",
      "\u001b[0;31mModuleNotFoundError\u001b[0m: No module named 'stack'"
     ]
    }
   ],
   "source": [
    "from stack import Stack"
   ]
  },
  {
   "cell_type": "code",
   "execution_count": null,
   "metadata": {},
   "outputs": [],
   "source": []
  },
  {
   "cell_type": "code",
   "execution_count": null,
   "metadata": {},
   "outputs": [],
   "source": []
  },
  {
   "cell_type": "code",
   "execution_count": null,
   "metadata": {},
   "outputs": [],
   "source": []
  },
  {
   "cell_type": "code",
   "execution_count": null,
   "metadata": {},
   "outputs": [],
   "source": []
  },
  {
   "cell_type": "code",
   "execution_count": null,
   "metadata": {},
   "outputs": [],
   "source": []
  },
  {
   "cell_type": "code",
   "execution_count": null,
   "metadata": {},
   "outputs": [],
   "source": []
  },
  {
   "cell_type": "code",
   "execution_count": null,
   "metadata": {},
   "outputs": [],
   "source": []
  },
  {
   "cell_type": "code",
   "execution_count": null,
   "metadata": {},
   "outputs": [],
   "source": []
  }
 ],
 "metadata": {
  "kernelspec": {
   "display_name": "Python 3",
   "language": "python",
   "name": "python3"
  },
  "language_info": {
   "codemirror_mode": {
    "name": "ipython",
    "version": 3
   },
   "file_extension": ".py",
   "mimetype": "text/x-python",
   "name": "python",
   "nbconvert_exporter": "python",
   "pygments_lexer": "ipython3",
   "version": "3.8.3"
  }
 },
 "nbformat": 4,
 "nbformat_minor": 4
}
